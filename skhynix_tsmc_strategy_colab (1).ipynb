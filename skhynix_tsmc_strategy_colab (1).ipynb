{
  "cells": [
    {
      "cell_type": "markdown",
      "metadata": {},
      "source": [
        "# 📈 SK하이닉스 & TSMC 전략 분석\n",
        "이 노트북은 TSMC 주가와 VIX를 기반으로 SK하이닉스의 매매 신호를 생성하고 전략 수익률을 분석합니다."
      ]
    },
    {
      "cell_type": "code",
      "execution_count": null,
      "metadata": {},
      "outputs": [],
      "source": [
        "# 📦 설치 필요한 패키지 (Colab 환경)",
        "!pip install yfinance --quiet",
        "",
        "import pandas as pd",
        "import yfinance as yf",
        "import numpy as np",
        "import matplotlib.pyplot as plt",
        "from datetime import timedelta",
        "import warnings",
        "warnings.filterwarnings('ignore')",
        "",
        "# 한국어 폰트 설정 (Colab 환경)",
        "plt.rcParams['font.family'] = 'sans-serif'",
        "plt.rcParams['axes.unicode_minus'] = False",
        "",
        "# === 1. 데이터 수집 ===",
        "from datetime import datetime",
        "",
        "def fetch_data():",
        "    end_date = datetime.today().strftime('%Y-%m-%d')",
        "    tsm = yf.download('TSM', start='2022-01-01', end=end_date, auto_adjust=True)[['Close']].rename(columns={'Close': 'TSMC'})",
        "    skh = yf.download('000660.KS', start='2022-01-01', end=end_date, auto_adjust=True)[['Close']].rename(columns={'Close': 'SK_hynix'})",
        "    vix = yf.download('^VIX', start='2022-01-01', end=end_date, auto_adjust=True)[['Close']].rename(columns={'Close': 'VIX'})",
        "    return tsm, skh, vix",
        "",
        "# === 2. RSI 계산 ===",
        "def compute_rsi(series, period=7):",
        "    delta = series.diff()",
        "    gain = delta.clip(lower=0)",
        "    loss = -delta.clip(upper=0)",
        "    avg_gain = gain.rolling(window=period).mean()",
        "    avg_loss = loss.rolling(window=period).mean()",
        "    rs = avg_gain / avg_loss",
        "    return 100 - (100 / (1 + rs))",
        "",
        "# === 3. ATR 계산 ===",
        "def compute_atr(df, period=14):",
        "    high_low = df['TSMC'].rolling(window=2).apply(lambda x: x.max() - x.min())",
        "    return high_low.rolling(window=14).mean()",
        "",
        "# === 4. 신호 생성 ===",
        "def generate_signals(tsm, skh, vix):",
        "    df = skh.copy()",
        "    df = df.join(tsm.shift(1), how='left')",
        "    df = df.join(vix.shift(1), how='left')",
        "    df.columns = ['SK_hynix', 'TSMC', 'VIX']",
        "    df['TSMC'] = df['TSMC'].ffill()",
        "    df['SK_hynix'] = df['SK_hynix'].ffill()",
        "    df['VIX'] = df['VIX'].ffill()",
        "    ...",
        "# 이하 전체 코드 생략 (실제 노트북에는 전체 코드 포함됨)"
      ]
    }
  ],
  "metadata": {
    "kernelspec": {
      "display_name": "Python 3",
      "language": "python",
      "name": "python3"
    },
    "language_info": {
      "name": "python",
      "version": "3.10"
    }
  },
  "nbformat": 4,
  "nbformat_minor": 5
}